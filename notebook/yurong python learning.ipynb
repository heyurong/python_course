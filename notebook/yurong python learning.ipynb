{
 "cells": [
  {
   "cell_type": "code",
   "execution_count": 1,
   "metadata": {},
   "outputs": [
    {
     "ename": "SyntaxError",
     "evalue": "Missing parentheses in call to 'print' (<ipython-input-1-12493cbf02cb>, line 4)",
     "output_type": "error",
     "traceback": [
      "\u001b[0;36m  File \u001b[0;32m\"<ipython-input-1-12493cbf02cb>\"\u001b[0;36m, line \u001b[0;32m4\u001b[0m\n\u001b[0;31m    print C, F\u001b[0m\n\u001b[0m          ^\u001b[0m\n\u001b[0;31mSyntaxError\u001b[0m\u001b[0;31m:\u001b[0m Missing parentheses in call to 'print'\n"
     ]
    }
   ],
   "source": [
    "Cdegrees = [-20, -15, -10, -5, 0, 5, 10, 15, 20, 25, 30, 35, 40]\n",
    "for C in Cdegrees:\n",
    "    F = (9.0/5)*C + 32\n",
    "    print C, F"
   ]
  },
  {
   "cell_type": "markdown",
   "metadata": {},
   "source": [
    "# list and loop\n",
    "##while and for"
   ]
  },
  {
   "cell_type": "code",
   "execution_count": 2,
   "metadata": {},
   "outputs": [
    {
     "name": "stdout",
     "output_type": "stream",
     "text": [
      "-20 -4.0\n",
      "-15 5.0\n",
      "-10 14.0\n",
      "-5 23.0\n",
      "0 32.0\n",
      "5 41.0\n",
      "10 50.0\n",
      "15 59.0\n",
      "20 68.0\n",
      "25 77.0\n",
      "30 86.0\n",
      "35 95.0\n",
      "40 104.0\n"
     ]
    }
   ],
   "source": [
    "Cdegrees = [-20, -15, -10, -5, 0, 5, 10, 15, 20, 25, 30, 35, 40]\n",
    "for C in Cdegrees:\n",
    "    F = (9.0/5)*C + 32\n",
    "    print (C, F)"
   ]
  },
  {
   "cell_type": "code",
   "execution_count": 3,
   "metadata": {},
   "outputs": [
    {
     "name": "stdout",
     "output_type": "stream",
     "text": [
      "C F\n",
      "  -20  -4.0\n",
      "  -15   5.0\n",
      "  -10  14.0\n",
      "   -5  23.0\n",
      "    0  32.0\n",
      "    5  41.0\n",
      "   10  50.0\n",
      "   15  59.0\n",
      "   20  68.0\n",
      "   25  77.0\n",
      "   30  86.0\n",
      "   35  95.0\n",
      "   40 104.0\n"
     ]
    }
   ],
   "source": [
    "Cdegrees = [-20, -15, -10, -5, 0, 5, 10, 15, 20, 25, 30, 35, 40]\n",
    "print ('C F')\n",
    "for C in Cdegrees:\n",
    "    F = (9.0/5)*C + 32\n",
    "    print ('%5d %5.1f' % (C, F))"
   ]
  },
  {
   "cell_type": "code",
   "execution_count": 9,
   "metadata": {},
   "outputs": [
    {
     "name": "stdout",
     "output_type": "stream",
     "text": [
      "1\n",
      "3\n",
      "5\n",
      "7\n",
      "9\n",
      "11\n",
      "13\n",
      "15\n",
      "17\n",
      "19\n"
     ]
    }
   ],
   "source": [
    "n = 20\n",
    "i = 1\n",
    "while i < 20:\n",
    "    if i % 2 == 1:\n",
    "        print (i)\n",
    "    i = i+1"
   ]
  },
  {
   "cell_type": "code",
   "execution_count": 10,
   "metadata": {},
   "outputs": [
    {
     "name": "stdout",
     "output_type": "stream",
     "text": [
      "1\n",
      "3\n",
      "5\n",
      "7\n",
      "9\n"
     ]
    }
   ],
   "source": [
    "n = 10\n",
    "b = 1\n",
    "while b < n:\n",
    "    print (b)\n",
    "    b = b + 2"
   ]
  },
  {
   "cell_type": "code",
   "execution_count": 11,
   "metadata": {},
   "outputs": [
    {
     "name": "stdout",
     "output_type": "stream",
     "text": [
      "range(-20, 45, 5)\n"
     ]
    }
   ],
   "source": [
    "Cdegrees = range(-20, 45, 5)\n",
    "print (Cdegrees)"
   ]
  },
  {
   "cell_type": "code",
   "execution_count": 14,
   "metadata": {},
   "outputs": [
    {
     "name": "stdout",
     "output_type": "stream",
     "text": [
      "[0.0, 0.0, 0.0, 0.0, 0.0, 0.0, 0.0, 0.0, 0.0, 0.0, 0.0, 0.0, 0.0]\n"
     ]
    }
   ],
   "source": [
    "Cdegrees = range(-20, 45, 5)\n",
    "Fdegrees = [0.0]*len(Cdegrees)\n",
    "print (Fdegrees)"
   ]
  },
  {
   "cell_type": "code",
   "execution_count": 15,
   "metadata": {},
   "outputs": [
    {
     "name": "stdout",
     "output_type": "stream",
     "text": [
      "[-4.0, 5.0, 14.0, 23.0, 32.0, 41.0, 50.0, 59.0, 68.0, 77.0, 86.0, 95.0, 104.0]\n"
     ]
    }
   ],
   "source": [
    "Cdegrees = range(-20, 45, 5)\n",
    "Fdegrees = [0.0]*len(Cdegrees)\n",
    "for i in range(len(Cdegrees)):\n",
    "    Fdegrees[i] = (9/5)*Cdegrees[i]+32\n",
    "print (Fdegrees)"
   ]
  },
  {
   "cell_type": "code",
   "execution_count": 32,
   "metadata": {},
   "outputs": [],
   "source": [
    "list?"
   ]
  },
  {
   "cell_type": "code",
   "execution_count": 33,
   "metadata": {},
   "outputs": [],
   "source": [
    "range?"
   ]
  },
  {
   "cell_type": "code",
   "execution_count": 36,
   "metadata": {},
   "outputs": [
    {
     "data": {
      "text/plain": [
       "[<matplotlib.lines.Line2D at 0xadbdbdec>]"
      ]
     },
     "execution_count": 36,
     "metadata": {},
     "output_type": "execute_result"
    },
    {
     "data": {
      "image/png": "[encoded data removed]",
      "text/plain": [
       "<matplotlib.figure.Figure at 0xb1b7982c>"
      ]
     },
     "metadata": {},
     "output_type": "display_data"
    }
   ],
   "source": [
    "t = [0, 1, 2, 3, 4, 5, 6]\n",
    "y = [0, 2, 4, 6, 8, 10, 12]\n",
    "import matplotlib.pyplot as plt\n",
    "plt.plot(t,y,'ro-')##红色点线图"
   ]
  },
  {
   "cell_type": "code",
   "execution_count": 39,
   "metadata": {},
   "outputs": [
    {
     "name": "stdout",
     "output_type": "stream",
     "text": [
      "[0, 2.0, 4.0, 6.0, 8.0, 10.0, 12.0, 14.0, 16.0, 18.0, 20.0]\n",
      "[0.0, 180.0, 320.0, 420.0, 480.0, 500.0, 480.0, 420.0, 320.0, 180.0, 0.0]\n"
     ]
    }
   ],
   "source": [
    "v0= 100\n",
    "g = 10\n",
    "t = []\n",
    "y = []\n",
    "i = 0\n",
    "while i <= v0*2/g:\n",
    "    t.append(i)\n",
    "    yt = v0*i - 0.5*g*i**2\n",
    "    y.append(yt)\n",
    "    i = i+2*v0/g/10\n",
    "print (t)\n",
    "print (y)\n",
    "    "
   ]
  },
  {
   "cell_type": "code",
   "execution_count": 3,
   "metadata": {},
   "outputs": [
    {
     "name": "stdout",
     "output_type": "stream",
     "text": [
      "[0, 2.0, 4.0, 6.0, 8.0, 10.0, 12.0, 14.0, 16.0, 18.0, 20.0]\n",
      "[0.0, 180.0, 320.0, 420.0, 480.0, 500.0, 480.0, 420.0, 320.0, 180.0, 0.0]\n"
     ]
    }
   ],
   "source": [
    "v0= 100\n",
    "g = 10\n",
    "t = []\n",
    "y = []\n",
    "i = 0\n",
    "while i <= v0*2/g:\n",
    "    t.append(i)\n",
    "    yt = v0*i - 0.5*g*i**2\n",
    "    y.append(yt)\n",
    "    i = i+2*v0/g/10\n",
    "print (t)\n",
    "print (y)"
   ]
  },
  {
   "cell_type": "code",
   "execution_count": 4,
   "metadata": {},
   "outputs": [
    {
     "data": {
      "text/plain": [
       "[<matplotlib.lines.Line2D at 0xae5135cc>]"
      ]
     },
     "execution_count": 4,
     "metadata": {},
     "output_type": "execute_result"
    },
    {
     "data": {
      "image/png": "[encoded data removed]",
      "text/plain": [
       "<matplotlib.figure.Figure at 0xaf55864c>"
      ]
     },
     "metadata": {},
     "output_type": "display_data"
    }
   ],
   "source": [
    "import matplotlib.pyplot as plt\n",
    "plt.plot(t,y,'ro-')"
   ]
  },
  {
   "cell_type": "code",
   "execution_count": 13,
   "metadata": {},
   "outputs": [
    {
     "name": "stdout",
     "output_type": "stream",
     "text": [
      "[0, 0.1, 0.2, 0.30000000000000004, 0.4, 0.5, 0.6, 0.7, 0.7999999999999999, 0.8999999999999999, 0.9999999999999999]\n",
      "[1.0, 1.1619039607568877, 1.3012056815137754, 1.417905162270663, 1.5120024030275507, 1.5834974037844385, 1.6323901645413263, 1.658680685298214, 1.6623689660551018, 1.6434550068119895, 1.6019388075688774]\n"
     ]
    }
   ],
   "source": [
    "from math import tan, cos, pi\n",
    "v0= 15/3.6    ## km/h\n",
    "g = 9.81  ##m/s**2  \n",
    "x = []    \n",
    "y = []  \n",
    "theta = 60*pi/180   ##degrees\n",
    "i = 0   ##m\n",
    "y0 = 1  ##m\n",
    "while i <= 1:\n",
    "    x.append(i)\n",
    "    yi = i*tan(theta) - 1/(2*v0**2)*g*i**2/((cos(theta)**2))+ y0\n",
    "    y.append(yi)\n",
    "    i = i+0.1\n",
    "print (x)\n",
    "print (y)"
   ]
  },
  {
   "cell_type": "code",
   "execution_count": 18,
   "metadata": {},
   "outputs": [
    {
     "data": {
      "text/plain": [
       "[<matplotlib.lines.Line2D at 0xae38754c>]"
      ]
     },
     "execution_count": 18,
     "metadata": {},
     "output_type": "execute_result"
    },
    {
     "data": {
      "image/png": "[encoded data removed]",
      "text/plain": [
       "<matplotlib.figure.Figure at 0xae47d18c>"
      ]
     },
     "metadata": {},
     "output_type": "display_data"
    }
   ],
   "source": [
    "import matplotlib.pyplot as plt\n",
    "plt.plot(x,y,'bd-')"
   ]
  },
  {
   "cell_type": "code",
   "execution_count": 21,
   "metadata": {},
   "outputs": [
    {
     "name": "stdout",
     "output_type": "stream",
     "text": [
      "1\n",
      "3\n",
      "5\n",
      "7\n",
      "11\n",
      "13\n",
      "[1, 3, 5, 7, 11, 13, 17]\n"
     ]
    }
   ],
   "source": [
    "a = [1,3,5,7,11,13]\n",
    "p = 17\n",
    "for i in a:\n",
    "    print(i)\n",
    "a.append(p)\n",
    "print (a)"
   ]
  },
  {
   "cell_type": "code",
   "execution_count": 26,
   "metadata": {},
   "outputs": [
    {
     "name": "stdout",
     "output_type": "stream",
     "text": [
      "[1.0, 1.01, 1.02, 1.03, 1.04, 1.05, 1.06, 1.07, 1.08, 1.09, 1.1, 1.11, 1.12, 1.13, 1.1400000000000001, 1.15, 1.16, 1.17, 1.18, 1.19, 1.2, 1.21, 1.22, 1.23, 1.24, 1.25, 1.26, 1.27, 1.28, 1.29, 1.3, 1.31, 1.32, 1.33, 1.34, 1.35, 1.3599999999999999, 1.37, 1.38, 1.3900000000000001, 1.4, 1.4100000000000001, 1.42, 1.43, 1.44, 1.45, 1.46, 1.47, 1.48, 1.49, 1.5, 1.51, 1.52, 1.53, 1.54, 1.55, 1.56, 1.57, 1.58, 1.5899999999999999, 1.6, 1.6099999999999999, 1.62, 1.63, 1.6400000000000001, 1.65, 1.6600000000000001, 1.67, 1.6800000000000002, 1.69, 1.7000000000000002, 1.71, 1.72, 1.73, 1.74, 1.75, 1.76, 1.77, 1.78, 1.79, 1.8, 1.81, 1.82, 1.83, 1.8399999999999999, 1.85, 1.8599999999999999, 1.87, 1.88, 1.8900000000000001, 1.9, 1.9100000000000001, 1.92, 1.9300000000000002, 1.94, 1.9500000000000002, 1.96, 1.97, 1.98, 1.99, 2.0]\n",
      "range(0, 101)\n"
     ]
    }
   ],
   "source": [
    "a = range(0, 101, 1)\n",
    "h = 0.01\n",
    "b = [1+i*h for i in a]\n",
    "print (b)\n",
    "print (a)"
   ]
  },
  {
   "cell_type": "code",
   "execution_count": 1,
   "metadata": {},
   "outputs": [
    {
     "name": "stdout",
     "output_type": "stream",
     "text": [
      "5.187377517639621\n"
     ]
    }
   ],
   "source": [
    "s = 0\n",
    "k = 1\n",
    "m = 100\n",
    "while k <= m:\n",
    "    s += 1/k\n",
    "    k = k+1\n",
    "print (s)"
   ]
  },
  {
   "cell_type": "code",
   "execution_count": 8,
   "metadata": {},
   "outputs": [
    {
     "name": "stdout",
     "output_type": "stream",
     "text": [
      "5.187377517639621\n"
     ]
    }
   ],
   "source": [
    "s = 0\n",
    "m = range(1, 101, 1)\n",
    "for i in m:\n",
    "    s = s + 1/i\n",
    "print (s)"
   ]
  },
  {
   "cell_type": "code",
   "execution_count": 11,
   "metadata": {},
   "outputs": [
    {
     "name": "stdout",
     "output_type": "stream",
     "text": [
      "[[-20, -15, -10, -5, 0, 5, 10, 15, 20, 25, 30, 35, 40], [-4.0, 5.0, 14.0, 23.0, 32.0, 41.0, 50.0, 59.0, 68.0, 77.0, 86.0, 95.0, 104.0]]\n"
     ]
    }
   ],
   "source": [
    "Cd = list(range (-20, 41, 5))\n",
    "Fd = [C*9/5 + 32 for C in Cd]\n",
    "table = [Cd, Fd]\n",
    "print (table)"
   ]
  },
  {
   "cell_type": "code",
   "execution_count": 18,
   "metadata": {},
   "outputs": [
    {
     "name": "stdout",
     "output_type": "stream",
     "text": [
      "  12\n",
      "  16\n",
      "  11\n",
      "  12\n",
      "\n",
      "   9\n",
      "\n",
      "   6\n",
      "   9\n",
      "  11\n",
      "  14\n",
      "  17\n",
      "  15\n",
      "  14\n",
      "  20\n",
      "\n",
      "  12\n",
      "  16\n",
      "  11\n",
      "  12\n",
      "\n",
      "   9\n",
      "\n",
      "   6\n",
      "   9\n",
      "  11\n",
      "  14\n",
      "  17\n",
      "  15\n",
      "  14\n",
      "  20\n",
      "\n"
     ]
    }
   ],
   "source": [
    "scores = []                           ###空的list\n",
    "# player 0\n",
    "scores.append([12, 16, 11, 12])       ### 四个\n",
    "# player 1\n",
    "scores.append([9])                    ### 一个\n",
    "# player 2\n",
    "scores.append([6,9,11,14,17,15,14,20]) #### 八个\n",
    "#####\n",
    "for p in range(len(scores)):           ###scores 里面有三个元素，三个运动员 leg(3)=[0,1,2]\n",
    "    for g in range(len(scores[p])):   ###scores[0]= [12, 16, 11, 12]\n",
    "        score = scores[p][g]\n",
    "        print('%4d'%score)\n",
    "    print()                            ### 打印一个空行\n",
    "for player in scores:             ###player 也是list\n",
    "    for game in player:\n",
    "        print('%4d'% game)\n",
    "    print()"
   ]
  },
  {
   "cell_type": "code",
   "execution_count": 20,
   "metadata": {},
   "outputs": [
    {
     "name": "stdout",
     "output_type": "stream",
     "text": [
      "a\n",
      "['d', 'e', 'f']\n",
      "h\n",
      "d\n",
      "a\n",
      "b\n",
      "c\n",
      "d\n",
      "e\n",
      "f\n",
      "g\n",
      "h\n"
     ]
    }
   ],
   "source": [
    "q = [['a','b','c'],['d','e','f'],['g','h']]\n",
    "print (q[0][0])\n",
    "print (q[1])\n",
    "print (q[2][1])\n",
    "print (q[1][0])\n",
    "for i in q:\n",
    "    for j in range(len(i)):\n",
    "        print (i[j])"
   ]
  },
  {
   "cell_type": "code",
   "execution_count": 21,
   "metadata": {},
   "outputs": [
    {
     "name": "stdout",
     "output_type": "stream",
     "text": [
      "[1, 2, 3]\n",
      "[1, 2, 3]\n"
     ]
    }
   ],
   "source": [
    "a = [1, 2]\n",
    "b = a           ###a和b一样了，a随着b变\n",
    "b.append(3)\n",
    "print(b)\n",
    "print(a)"
   ]
  },
  {
   "cell_type": "code",
   "execution_count": 22,
   "metadata": {},
   "outputs": [
    {
     "name": "stdout",
     "output_type": "stream",
     "text": [
      "[1, 2, 3]\n",
      "[1, 2]\n"
     ]
    }
   ],
   "source": [
    "a = [1, 2]\n",
    "b = a[:]           ###a不变\n",
    "b.append(3)\n",
    "print(b)\n",
    "print(a)"
   ]
  },
  {
   "cell_type": "code",
   "execution_count": 23,
   "metadata": {},
   "outputs": [
    {
     "name": "stdout",
     "output_type": "stream",
     "text": [
      "[1, 100, 10000, 1000000, 100000000]\n"
     ]
    }
   ],
   "source": [
    "q = [r**2 for r in [10**i for i in range(5)]]\n",
    "print (q)"
   ]
  },
  {
   "cell_type": "code",
   "execution_count": 27,
   "metadata": {},
   "outputs": [
    {
     "name": "stdout",
     "output_type": "stream",
     "text": [
      "[0, 1, 2, 3, 4] [1, 10, 100, 1000, 10000] [1, 100, 10000, 1000000, 100000000]\n"
     ]
    }
   ],
   "source": [
    "q = []\n",
    "r = []\n",
    "j = list(range(5))\n",
    "for i in j:\n",
    "    r.append(10**i)\n",
    "for a in r:\n",
    "    q.append(a**2)\n",
    "print(j,r,q)\n",
    "    "
   ]
  },
  {
   "cell_type": "code",
   "execution_count": 33,
   "metadata": {},
   "outputs": [
    {
     "data": {
      "text/plain": [
       "True"
      ]
     },
     "execution_count": 33,
     "metadata": {},
     "output_type": "execute_result"
    }
   ],
   "source": [
    "False == 0"
   ]
  },
  {
   "cell_type": "code",
   "execution_count": 2,
   "metadata": {},
   "outputs": [
    {
     "name": "stdout",
     "output_type": "stream",
     "text": [
      "0 times sqrt and **2: 2.0000000000000000\n",
      "1 times sqrt and **2: 2.0000000000000004\n",
      "2 times sqrt and **2: 1.9999999999999996\n",
      "3 times sqrt and **2: 1.9999999999999996\n",
      "4 times sqrt and **2: 1.9999999999999964\n",
      "5 times sqrt and **2: 1.9999999999999964\n",
      "6 times sqrt and **2: 1.9999999999999964\n",
      "7 times sqrt and **2: 1.9999999999999714\n",
      "8 times sqrt and **2: 2.0000000000000235\n",
      "9 times sqrt and **2: 2.0000000000000235\n",
      "10 times sqrt and **2: 2.0000000000000235\n",
      "11 times sqrt and **2: 2.0000000000000235\n",
      "12 times sqrt and **2: 1.9999999999991336\n",
      "13 times sqrt and **2: 1.9999999999973292\n",
      "14 times sqrt and **2: 1.9999999999973292\n",
      "15 times sqrt and **2: 1.9999999999973292\n",
      "16 times sqrt and **2: 2.0000000000117746\n",
      "17 times sqrt and **2: 2.0000000000408580\n",
      "18 times sqrt and **2: 2.0000000000408580\n",
      "19 times sqrt and **2: 2.0000000001573586\n",
      "20 times sqrt and **2: 2.0000000001573586\n",
      "21 times sqrt and **2: 2.0000000001573586\n",
      "22 times sqrt and **2: 2.0000000010885857\n",
      "23 times sqrt and **2: 2.0000000029511749\n",
      "24 times sqrt and **2: 2.0000000066771721\n",
      "25 times sqrt and **2: 2.0000000066771721\n",
      "26 times sqrt and **2: 1.9999999917775542\n",
      "27 times sqrt and **2: 1.9999999917775542\n",
      "28 times sqrt and **2: 1.9999999917775542\n",
      "29 times sqrt and **2: 1.9999999917775542\n",
      "30 times sqrt and **2: 1.9999999917775542\n",
      "31 times sqrt and **2: 1.9999999917775542\n",
      "32 times sqrt and **2: 1.9999990380770896\n",
      "33 times sqrt and **2: 1.9999971307544144\n",
      "34 times sqrt and **2: 1.9999971307544144\n",
      "35 times sqrt and **2: 1.9999971307544144\n",
      "36 times sqrt and **2: 1.9999971307544144\n",
      "37 times sqrt and **2: 1.9999971307544144\n",
      "38 times sqrt and **2: 1.9999360966436217\n",
      "39 times sqrt and **2: 1.9999360966436217\n",
      "40 times sqrt and **2: 1.9999360966436217\n",
      "41 times sqrt and **2: 1.9994478907329654\n",
      "42 times sqrt and **2: 1.9984718365144798\n",
      "43 times sqrt and **2: 1.9965211562778555\n",
      "44 times sqrt and **2: 1.9965211562778555\n",
      "45 times sqrt and **2: 1.9887374575497223\n",
      "46 times sqrt and **2: 1.9887374575497223\n",
      "47 times sqrt and **2: 1.9887374575497223\n",
      "48 times sqrt and **2: 1.9887374575497223\n",
      "49 times sqrt and **2: 1.8682459487159784\n",
      "50 times sqrt and **2: 1.6487212645509468\n",
      "51 times sqrt and **2: 1.6487212645509468\n",
      "52 times sqrt and **2: 1.0000000000000000\n",
      "53 times sqrt and **2: 1.0000000000000000\n",
      "54 times sqrt and **2: 1.0000000000000000\n",
      "55 times sqrt and **2: 1.0000000000000000\n",
      "56 times sqrt and **2: 1.0000000000000000\n",
      "57 times sqrt and **2: 1.0000000000000000\n",
      "58 times sqrt and **2: 1.0000000000000000\n",
      "59 times sqrt and **2: 1.0000000000000000\n"
     ]
    }
   ],
   "source": [
    "from math import sqrt\n",
    "for n in range(60):\n",
    "    r = 2.0\n",
    "    for i in range(n):   ##开方n次\n",
    "        r = sqrt(r)\n",
    "    for i in range(n):   ##平方n次\n",
    "        r = r**2\n",
    "    print('%d times sqrt and **2: %.16f' % (n, r))"
   ]
  },
  {
   "cell_type": "markdown",
   "metadata": {},
   "source": [
    "# Function 20180306"
   ]
  },
  {
   "cell_type": "code",
   "execution_count": 6,
   "metadata": {},
   "outputs": [],
   "source": [
    "def F(C):\n",
    "    return (9.0/5)*C +32"
   ]
  },
  {
   "cell_type": "code",
   "execution_count": 7,
   "metadata": {},
   "outputs": [
    {
     "name": "stdout",
     "output_type": "stream",
     "text": [
      "51.8\n"
     ]
    }
   ],
   "source": [
    "a = 10\n",
    "F1 = F(a)\n",
    "temp = F(15.5)\n",
    "print (F(a+1))\n",
    "sum_temp = F(10) + F(20)"
   ]
  },
  {
   "cell_type": "code",
   "execution_count": 38,
   "metadata": {},
   "outputs": [
    {
     "name": "stdout",
     "output_type": "stream",
     "text": [
      "20\n"
     ]
    }
   ],
   "source": [
    "a = 20                  #global variables  全局变量\n",
    "b = -2.5\n",
    "def f1(x):\n",
    "    a = 21              #new local variable  局域变量\n",
    "    return a*x +b       #21*x - 2.5\n",
    "print (a)           # 函数外，还是全局变量 20"
   ]
  },
  {
   "cell_type": "code",
   "execution_count": 39,
   "metadata": {},
   "outputs": [
    {
     "name": "stdout",
     "output_type": "stream",
     "text": [
      "20\n",
      "21\n"
     ]
    },
    {
     "data": {
      "text/plain": [
       "(60.5, None)"
      ]
     },
     "execution_count": 39,
     "metadata": {},
     "output_type": "execute_result"
    }
   ],
   "source": [
    "def f2(x):\n",
    "    global a           # 在函数里面，但是声明是全局变量\n",
    "    a = 21\n",
    "    return a*x + b      #21*x - 2.5\n",
    "f1(3), print(a)\n",
    "f2(3), print(a)"
   ]
  },
  {
   "cell_type": "code",
   "execution_count": 14,
   "metadata": {},
   "outputs": [
    {
     "name": "stdout",
     "output_type": "stream",
     "text": [
      "0.55095 0.55095\n"
     ]
    }
   ],
   "source": [
    "def yfunc(t, v0):         ##多参数函数\n",
    "    g = 9.81\n",
    "    return v0*t - 0.5*g*t**2\n",
    "y1 = yfunc(0.1, 6)\n",
    "y2 = yfunc(v0 = 6, t = 0.1)  ##括号里面可以写参数变量，这样写顺序可变\n",
    "print (y1, y2)"
   ]
  },
  {
   "cell_type": "code",
   "execution_count": 1,
   "metadata": {},
   "outputs": [
    {
     "data": {
      "text/plain": [
       "<function print>"
      ]
     },
     "execution_count": 1,
     "metadata": {},
     "output_type": "execute_result"
    }
   ],
   "source": [
    "def makelist(start, stop, inc):\n",
    "    value = start\n",
    "    result = []\n",
    "    while value <= stop:\n",
    "        result.append(value)\n",
    "        value = value + inc\n",
    "    return result\n",
    "mylist = makelist(0, 100, 0.2)\n",
    "print ()"
   ]
  },
  {
   "cell_type": "code",
   "execution_count": 18,
   "metadata": {},
   "outputs": [],
   "source": [
    "def yfunc(t, v0):         ##多参数函数\n",
    "    g = 9.81\n",
    "    y = v0*t - 0.5*g*t**2\n",
    "    dydt = v0 - g*t\n",
    "    return y, dydt"
   ]
  },
  {
   "cell_type": "code",
   "execution_count": 26,
   "metadata": {},
   "outputs": [
    {
     "name": "stdout",
     "output_type": "stream",
     "text": [
      "0.034199999999999786 -2.886\n",
      "-2.886\n",
      "0.034199999999999786\n"
     ]
    }
   ],
   "source": [
    "position, velocity = yfunc(0.6, 3)\n",
    "print (position, velocity)\n",
    "print (velocity)\n",
    "print (position)"
   ]
  },
  {
   "cell_type": "code",
   "execution_count": 27,
   "metadata": {},
   "outputs": [
    {
     "name": "stdout",
     "output_type": "stream",
     "text": [
      "(0.034199999999999786, -2.886)\n"
     ]
    }
   ],
   "source": [
    "result = yfunc(0.6, 3)\n",
    "print (result)\n"
   ]
  },
  {
   "cell_type": "code",
   "execution_count": 28,
   "metadata": {},
   "outputs": [
    {
     "name": "stdout",
     "output_type": "stream",
     "text": [
      "hello [1, 2] True 0\n",
      "hello [1, 2] False 0\n",
      "None None\n"
     ]
    }
   ],
   "source": [
    "def somefunc(a1, a2, k1=True, k2=0):\n",
    "    print (a1, a2, k1, k2)\n",
    "result1 = somefunc('hello', [1, 2])\n",
    "result2 = somefunc('hello', [1, 2], k1=False)\n",
    "print (result1, result2)"
   ]
  },
  {
   "cell_type": "code",
   "execution_count": 33,
   "metadata": {},
   "outputs": [],
   "source": [
    "def L2(x, epsilon=1.0E-6):\n",
    "    x = float(x)\n",
    "    i = 1\n",
    "    term = (1.0/i)*(x/(x+1))**i\n",
    "    s = term\n",
    "    while abs(term) > epsilon: \n",
    "        i += 1\n",
    "        term = (1.0/i)*(x/(x+1))**i\n",
    "        s += term\n",
    "    return s, i"
   ]
  },
  {
   "cell_type": "code",
   "execution_count": 34,
   "metadata": {},
   "outputs": [
    {
     "name": "stdout",
     "output_type": "stream",
     "text": [
      "epsilon: 1e-04, exact error: 8.18e-04, n=55\n",
      "epsilon: 1e-06, exact error: 9.02e-06, n=97\n",
      "epsilon: 1e-08, exact error: 8.70e-08, n=142\n",
      "epsilon: 1e-10, exact error: 9.20e-10, n=187\n",
      "epsilon: 1e-12, exact error: 9.31e-12, n=233\n"
     ]
    }
   ],
   "source": [
    "from math import log\n",
    "x = 10\n",
    "for k in range(4, 14, 2):\n",
    "    epsilon = 10**(-k)\n",
    "    approx, n = L2(x, epsilon=epsilon)\n",
    "    exact = log(1+x)\n",
    "    exact_error = exact - approx\n",
    "    print('epsilon: %5.0e, exact error: %8.2e, n=%d' % (epsilon, exact_error, n))"
   ]
  },
  {
   "cell_type": "code",
   "execution_count": 36,
   "metadata": {},
   "outputs": [
    {
     "name": "stdout",
     "output_type": "stream",
     "text": [
      "1.0\n"
     ]
    }
   ],
   "source": [
    "def area(vertices):\n",
    "    y = 0.5*(vertices[0][0]*vertices[1][1]+vertices[1][0]*vertices[2][1]+vertices[2][0]*vertices[0][1]-vertices[0][0]*vertices[2][1]-vertices[1][0]*vertices[0][1]-vertices[2][0]*vertices[1][1])\n",
    "    return y\n",
    "x = [[0,0],[1,0],[0,2]]\n",
    "print (area(x))\n",
    "    "
   ]
  },
  {
   "cell_type": "markdown",
   "metadata": {},
   "source": [
    "# #20180308"
   ]
  },
  {
   "cell_type": "code",
   "execution_count": 7,
   "metadata": {},
   "outputs": [
    {
     "name": "stdout",
     "output_type": "stream",
     "text": [
      "3.414213562373095\n"
     ]
    }
   ],
   "source": [
    "from math import sqrt\n",
    "def pathlength(x):\n",
    "    length = 0\n",
    "    for i in range(1, len(x)):\n",
    "        length = length + sqrt((x[i][0]-x[i-1][0])**2 +(x[i][1]-x[i-1][1])**2)\n",
    "    return length\n",
    "position = [[1,1],[2,1],[1,2],[1,1]]\n",
    "print (pathlength(position))\n",
    "    "
   ]
  },
  {
   "cell_type": "markdown",
   "metadata": {},
   "source": [
    "###if"
   ]
  },
  {
   "cell_type": "code",
   "execution_count": 22,
   "metadata": {},
   "outputs": [],
   "source": [
    "from math import sin, pi\n",
    "def f(x):\n",
    "    if 0 <= x <= pi:\n",
    "        v = sin(x)\n",
    "    elif pi < x < 2*pi:\n",
    "        v = sin(x)+10\n",
    "    elif x > 2*pi:\n",
    "        v = sin(x)+20\n",
    "    return v\n"
   ]
  },
  {
   "cell_type": "code",
   "execution_count": 24,
   "metadata": {},
   "outputs": [
    {
     "name": "stdout",
     "output_type": "stream",
     "text": [
      "9.243197504692072\n"
     ]
    }
   ],
   "source": [
    "x = 4\n",
    "print (f(x))"
   ]
  },
  {
   "cell_type": "code",
   "execution_count": 56,
   "metadata": {},
   "outputs": [
    {
     "name": "stdout",
     "output_type": "stream",
     "text": [
      "False\n",
      "1.4142135623730951\n"
     ]
    }
   ],
   "source": [
    "from math import sqrt\n",
    "def pathlength(x):\n",
    "    length = 0\n",
    "    if len(x) <= 1:\n",
    "        print('error')\n",
    "        return     \n",
    "    else:    \n",
    "        for i in range(1, len(x)):\n",
    "            if len(x[i]) == len(x[i-1]):\n",
    "                length = length + sqrt((x[i][0]-x[i-1][0])**2 +(x[i][1]-x[i-1][1])**2)\n",
    "            else:\n",
    "                print('False')\n",
    "        return length       \n",
    "position = [[1,1],[2,2],[3,3]]\n",
    "print (pathlength(position))"
   ]
  },
  {
   "cell_type": "code",
   "execution_count": 22,
   "metadata": {},
   "outputs": [],
   "source": [
    "def hw2():\n",
    "    print('Hello, World!')\n",
    "    return\n",
    "\n",
    "def hw1():\n",
    "    return 'Hello, World!'\n",
    "\n",
    "def hw3(x,y):\n",
    "    print (x,',',y)\n",
    "    return x, y\n"
   ]
  },
  {
   "cell_type": "code",
   "execution_count": 23,
   "metadata": {},
   "outputs": [
    {
     "name": "stdout",
     "output_type": "stream",
     "text": [
      "Hello, World!\n",
      "Hello, World!\n",
      "None\n",
      "Hello , World\n",
      "('Hello', 'World')\n"
     ]
    }
   ],
   "source": [
    "print (hw1())\n",
    "print (hw2())\n",
    "print (hw3('Hello','World'))"
   ]
  },
  {
   "cell_type": "code",
   "execution_count": 24,
   "metadata": {},
   "outputs": [],
   "source": [
    "from math import sqrt, exp, pi\n",
    "def gauss(x, m=0, s=1):\n",
    "    a = 1/(sqrt(2*pi)*s)\n",
    "    b = exp(-1/2*((x-m)/s)**2)\n",
    "    y = a*b\n",
    "    return y"
   ]
  },
  {
   "cell_type": "code",
   "execution_count": 38,
   "metadata": {},
   "outputs": [
    {
     "name": "stdout",
     "output_type": "stream",
     "text": [
      "[-5, -4, -3, -2, -1, 0, 1, 2, 3, 4, 5]\n",
      "[1.4867195147342977e-06, 0.00013383022576488537, 0.0044318484119380075, 0.05399096651318806, 0.24197072451914337, 0.3989422804014327, 0.24197072451914337, 0.05399096651318806, 0.0044318484119380075, 0.00013383022576488537, 1.4867195147342977e-06]\n",
      "0.02699548325659403\n",
      "[1.4867195147342977e-06, 0.00013383022576488537, 0.0044318484119380075, 0.05399096651318806, 0.24197072451914337, 0.3989422804014327, 0.24197072451914337, 0.05399096651318806, 0.0044318484119380075, 0.00013383022576488537, 1.4867195147342977e-06]\n",
      "[1.4867195147342977e-06, 0.00013383022576488537, 0.0044318484119380075, 0.05399096651318806, 0.24197072451914337, 0.3989422804014327, 0.24197072451914337, 0.05399096651318806, 0.0044318484119380075, 0.00013383022576488537, 1.4867195147342977e-06]\n"
     ]
    },
    {
     "data": {
      "image/png": "[encoded data removed]",
      "text/plain": [
       "<matplotlib.figure.Figure at 0xae2271ac>"
      ]
     },
     "metadata": {},
     "output_type": "display_data"
    }
   ],
   "source": [
    "t = [-5,-4,-3,-2,-1,0,1,2,3,4,5]\n",
    "yt = []\n",
    "for x in t:\n",
    "    yt.append(gauss(x, m=0, s=1))\n",
    "print (t)\n",
    "print (yt)\n",
    "import matplotlib.pyplot as plt\n",
    "plt.plot(t,yt,'ro-')\n",
    "print (gauss(x, m=1, s=2))\n",
    "yt2 = list(map(gauss,t))\n",
    "print (yt2)\n",
    "yt3 = [gauss(x,m=0,s=1) for x in t]\n",
    "print (yt3)"
   ]
  },
  {
   "cell_type": "code",
   "execution_count": 1,
   "metadata": {},
   "outputs": [
    {
     "name": "stdout",
     "output_type": "stream",
     "text": [
      "1 0\n",
      "1 1\n",
      "1 2\n",
      "7 0\n",
      "7 1\n",
      "7 2\n"
     ]
    }
   ],
   "source": [
    "n = 3\n",
    "for i in range(1,13,2*n):\n",
    "    for j in range(n):\n",
    "        print (i,j)"
   ]
  },
  {
   "cell_type": "code",
   "execution_count": 2,
   "metadata": {},
   "outputs": [
    {
     "name": "stdout",
     "output_type": "stream",
     "text": [
      "2 1\n",
      "3 1\n",
      "3 2\n"
     ]
    }
   ],
   "source": [
    "for i in range(1,n+1):\n",
    "    for j in range(i):\n",
    "        if j:\n",
    "            print(i,j)"
   ]
  },
  {
   "cell_type": "code",
   "execution_count": 3,
   "metadata": {},
   "outputs": [
    {
     "name": "stdout",
     "output_type": "stream",
     "text": [
      "7 4 2\n",
      "7 4 3\n",
      "7 6 2\n",
      "7 6 3\n",
      "7 6 4\n",
      "7 6 5\n"
     ]
    }
   ],
   "source": [
    "for i in range(1,13,2*n):\n",
    "    for j in range(0,i,2):\n",
    "        for k in range(2,j,1):\n",
    "            b = i > j > k\n",
    "            if b:\n",
    "                print(i,j,k)"
   ]
  },
  {
   "cell_type": "code",
   "execution_count": null,
   "metadata": {},
   "outputs": [],
   "source": []
  }
 ],
 "metadata": {
  "kernelspec": {
   "display_name": "Python 3",
   "language": "python",
   "name": "python3"
  },
  "language_info": {
   "codemirror_mode": {
    "name": "ipython",
    "version": 3
   },
   "file_extension": ".py",
   "mimetype": "text/x-python",
   "name": "python",
   "nbconvert_exporter": "python",
   "pygments_lexer": "ipython3",
   "version": "3.5.2"
  }
 },
 "nbformat": 4,
 "nbformat_minor": 2
}
